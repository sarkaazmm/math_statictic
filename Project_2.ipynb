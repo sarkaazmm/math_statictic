{
 "cells": [
  {
   "cell_type": "code",
   "execution_count": 1,
   "id": "820c569d-892a-4a27-8ec7-55d702e9063c",
   "metadata": {},
   "outputs": [],
   "source": [
    "import pandas as pd\n",
    "import numpy as np\n",
    "import matplotlib.pyplot as plt\n",
    "from scipy.integrate import quad\n",
    "import scipy "
   ]
  },
  {
   "cell_type": "markdown",
   "id": "46bee522-dd92-4b12-8da0-347480c076f6",
   "metadata": {},
   "source": [
    "# Частина №1"
   ]
  },
  {
   "cell_type": "code",
   "execution_count": 2,
   "id": "64fe164d-53ae-4d40-b66b-d74c5e9c0f04",
   "metadata": {},
   "outputs": [
    {
     "data": {
      "text/html": [
       "<div>\n",
       "<style scoped>\n",
       "    .dataframe tbody tr th:only-of-type {\n",
       "        vertical-align: middle;\n",
       "    }\n",
       "\n",
       "    .dataframe tbody tr th {\n",
       "        vertical-align: top;\n",
       "    }\n",
       "\n",
       "    .dataframe thead th {\n",
       "        text-align: right;\n",
       "    }\n",
       "</style>\n",
       "<table border=\"1\" class=\"dataframe\">\n",
       "  <thead>\n",
       "    <tr style=\"text-align: right;\">\n",
       "      <th></th>\n",
       "      <th>0</th>\n",
       "      <th>1</th>\n",
       "      <th>2</th>\n",
       "      <th>3</th>\n",
       "      <th>4</th>\n",
       "      <th>5</th>\n",
       "      <th>6</th>\n",
       "      <th>7</th>\n",
       "      <th>8</th>\n",
       "      <th>9</th>\n",
       "    </tr>\n",
       "  </thead>\n",
       "  <tbody>\n",
       "    <tr>\n",
       "      <th>hi</th>\n",
       "      <td>[4, 4.5]</td>\n",
       "      <td>[4.5, 5]</td>\n",
       "      <td>[5, 5.5]</td>\n",
       "      <td>[5.5, 6]</td>\n",
       "      <td>[6, 6.5]</td>\n",
       "      <td>[6.5, 7]</td>\n",
       "      <td>[7, 7.5]</td>\n",
       "      <td>[7.5, 8]</td>\n",
       "      <td>[8, 8.5]</td>\n",
       "      <td>[8.5, 9]</td>\n",
       "    </tr>\n",
       "    <tr>\n",
       "      <th>ni</th>\n",
       "      <td>1</td>\n",
       "      <td>3</td>\n",
       "      <td>18</td>\n",
       "      <td>66</td>\n",
       "      <td>106</td>\n",
       "      <td>116</td>\n",
       "      <td>64</td>\n",
       "      <td>23</td>\n",
       "      <td>2</td>\n",
       "      <td>1</td>\n",
       "    </tr>\n",
       "  </tbody>\n",
       "</table>\n",
       "</div>"
      ],
      "text/plain": [
       "           0         1         2         3         4         5         6  \\\n",
       "hi  [4, 4.5]  [4.5, 5]  [5, 5.5]  [5.5, 6]  [6, 6.5]  [6.5, 7]  [7, 7.5]   \n",
       "ni         1         3        18        66       106       116        64   \n",
       "\n",
       "           7         8         9  \n",
       "hi  [7.5, 8]  [8, 8.5]  [8.5, 9]  \n",
       "ni        23         2         1  "
      ]
     },
     "metadata": {},
     "output_type": "display_data"
    }
   ],
   "source": [
    "filename = 'data_p1.txt'\n",
    "with open(filename, 'r') as file:\n",
    "    lines = file.readlines()\n",
    "hi = []\n",
    "ni = []\n",
    "for line in lines[:10]:\n",
    "    start, end = map(int, line.strip().split(','))\n",
    "    hi.append([start, end])\n",
    "ni = list(map(int, lines[-1].strip().split(',')))\n",
    "\n",
    "hi = [[4, 4.5], [4.5, 5], [5, 5.5], [5.5, 6], [6, 6.5], [6.5, 7], [7, 7.5], [7.5, 8], [8, 8.5], [8.5, 9]]\n",
    "ni = [1, 3, 18,66, 106, 116, 64, 23, 2,1]\n",
    "table = pd.DataFrame({'hi': hi, 'ni': ni })\n",
    "display(table.T)        "
   ]
  },
  {
   "cell_type": "code",
   "execution_count": 3,
   "id": "20744d80-b033-4f76-b6c6-061e00c56996",
   "metadata": {},
   "outputs": [],
   "source": [
    "def mrg(ttable):\n",
    "    tni, thi, tpi = [], [], []\n",
    "    while not ttable.empty:\n",
    "        i = 0  \n",
    "        if ttable['ni'].iloc[i] < 5 or ttable['pi'].iloc[i]*ttable['ni'].sum()<10 :\n",
    "            if i == len(ttable) - 1:\n",
    "                tni.append(ttable['ni'].iloc[i])\n",
    "                thi.append(ttable['hi'].iloc[i])\n",
    "                tpi.append(ttable['pi'].iloc[i])\n",
    "            else:\n",
    "                tni.append(ttable['ni'].iloc[i] + ttable['ni'].iloc[i + 1])\n",
    "                thi.append([ttable['hi'].iloc[i][0], ttable['hi'].iloc[i + 1][1]])\n",
    "                tpi.append(ttable['pi'].iloc[i] + ttable['pi'].iloc[i + 1])\n",
    "                ttable = ttable.drop(ttable.index[i + 1])  \n",
    "        else:\n",
    "            if ttable['ni'].iloc[i+1]<5:\n",
    "                tni.append(ttable['ni'].iloc[i] + ttable['ni'].iloc[i + 1])\n",
    "                thi.append([ttable['hi'].iloc[i][0], ttable['hi'].iloc[i + 1][1]])\n",
    "                tpi.append(ttable['pi'].iloc[i] + ttable['pi'].iloc[i + 1])\n",
    "                ttable = ttable.drop(ttable.index[i + 1])  \n",
    "            else: \n",
    "                tni.append(ttable['ni'].iloc[i])\n",
    "                thi.append(ttable['hi'].iloc[i])\n",
    "                tpi.append(ttable['pi'].iloc[i])\n",
    "        ttable = ttable.drop(ttable.index[i]) \n",
    "    res = pd.DataFrame({'hi': thi, 'ni': tni, 'pi':tpi})\n",
    "    return res"
   ]
  },
  {
   "cell_type": "code",
   "execution_count": 4,
   "id": "670df55f-8e30-49a5-a47f-9b81511da9e5",
   "metadata": {},
   "outputs": [
    {
     "data": {
      "image/png": "[encoded data removed]",
      "text/plain": [
       "<Figure size 640x480 with 1 Axes>"
      ]
     },
     "metadata": {},
     "output_type": "display_data"
    }
   ],
   "source": [
    "counts = table['ni']\n",
    "plt.bar(range(len(table)), counts, tick_label=[f'{hi}' for hi in table['hi']])\n",
    "plt.title('Histogram of Frequencies')\n",
    "plt.xticks(rotation=45)\n",
    "\n",
    "plt.tight_layout()\n",
    "plt.show()"
   ]
  },
  {
   "cell_type": "markdown",
   "id": "0a2411a3-3cad-44c1-a00b-b3a4f6fd8763",
   "metadata": {},
   "source": [
    "## Гіпотеза: Розподіл є нормальним"
   ]
  },
  {
   "cell_type": "markdown",
   "id": "bb18477a-268e-481c-9f4b-7a2b2b524213",
   "metadata": {},
   "source": [
    "### Середньовибіркове"
   ]
  },
  {
   "cell_type": "code",
   "execution_count": 5,
   "id": "9a35debc-b795-439f-9fc2-54da8a93fd01",
   "metadata": {},
   "outputs": [],
   "source": [
    "def sample_average(df):\n",
    "    df=df.copy()\n",
    "    df['x-']= list((df['hi'][i][1]+df['hi'][i][0])/2 for i in range(len(df)))\n",
    "    df['x-']=df['x-']*df['ni']\n",
    "    x = df['x-'].sum()/df['ni'].sum()\n",
    "    return x"
   ]
  },
  {
   "cell_type": "markdown",
   "id": "1afb61f6-ede6-4c04-9b8a-7b81ae8959cb",
   "metadata": {},
   "source": [
    "### Девіація"
   ]
  },
  {
   "cell_type": "code",
   "execution_count": 6,
   "id": "617e77e7-8ea2-417b-8efe-1c72e38a5847",
   "metadata": {},
   "outputs": [],
   "source": [
    "def deviation(df):\n",
    "    df['xi-x-'] = (df['hi'].apply(lambda x: (x[1] + x[0]) / 2)) - sample_average(df)\n",
    "    df['(xi-x-)^2'] = df['ni'] * (df['xi-x-'] ** 2)\n",
    "    dev = df['(xi-x-)^2'].sum()\n",
    "    return dev"
   ]
  },
  {
   "cell_type": "markdown",
   "id": "3444ef5c-de49-4be9-98d5-546bc853f923",
   "metadata": {},
   "source": [
    "### Стандарт"
   ]
  },
  {
   "cell_type": "code",
   "execution_count": 7,
   "id": "3c6d25f5-6297-4e78-8b03-a5eb864cfddc",
   "metadata": {},
   "outputs": [],
   "source": [
    "def standard(df):\n",
    "    return round((deviation(df)/(df['ni'].sum()-1))**0.5, 3)    "
   ]
  },
  {
   "cell_type": "markdown",
   "id": "06a2026b-fd50-420a-8e78-bdf11898ec03",
   "metadata": {},
   "source": [
    "## Визначення параметрів розподілу"
   ]
  },
  {
   "cell_type": "code",
   "execution_count": 8,
   "id": "2a65d057-1366-4b3f-aadd-5d396aef22de",
   "metadata": {},
   "outputs": [
    {
     "name": "stdin",
     "output_type": "stream",
     "text": [
      "Якщо хочите ввести параметри розподілу введіть 1, якщо ні - 0 0\n"
     ]
    },
    {
     "name": "stdout",
     "output_type": "stream",
     "text": [
      "6.51375 0.665\n"
     ]
    }
   ],
   "source": [
    "choice=input(\"Якщо хочите ввести параметри розподілу введіть 1, якщо ні - 0\") \n",
    "minis=0\n",
    "if choice==\"1\":\n",
    "    x = input(\"Введіть мат. сподівання: \")\n",
    "    s = input(\"Введіть квадр. відхилення: \")\n",
    "elif choice ==\"0\":\n",
    "    x = sample_average(table)\n",
    "    s = standard(table)\n",
    "    minus=2\n",
    "print(x, s)"
   ]
  },
  {
   "cell_type": "markdown",
   "id": "3d5ca200-943a-436f-bf28-785bacc38707",
   "metadata": {},
   "source": [
    "### Обчислення функції Лапласа"
   ]
  },
  {
   "cell_type": "code",
   "execution_count": 9,
   "id": "b8335c7c-61af-411c-83bc-d6c396efa4a9",
   "metadata": {},
   "outputs": [],
   "source": [
    "def laplace_cdf_integral(t):\n",
    "    integrand = lambda x: np.exp(-x**2 / 2)\n",
    "    integral, _ = quad(integrand, 0, t)\n",
    "    return (1 / np.sqrt(2 * np.pi)) * integral"
   ]
  },
  {
   "cell_type": "markdown",
   "id": "7c3b007d-67fb-4e25-863c-0899ba23e37e",
   "metadata": {},
   "source": [
    "### Обчислення емпіричного значення критерію Пірсона"
   ]
  },
  {
   "cell_type": "code",
   "execution_count": 10,
   "id": "564543eb-e0ac-4569-94b9-1f98660281b0",
   "metadata": {},
   "outputs": [],
   "source": [
    "def Pirsons_criterion(df):\n",
    "    X=0\n",
    "    n=df['ni'].sum()\n",
    "    for i in range(len(df)):\n",
    "        X+=((df['ni'][i]-n*df['pi'][i])**2)/(n*df['pi'][i])\n",
    "    return X"
   ]
  },
  {
   "cell_type": "code",
   "execution_count": 17,
   "id": "7e361b30-4b03-4886-a5a2-c8144faa093b",
   "metadata": {},
   "outputs": [
    {
     "data": {
      "text/html": [
       "<div>\n",
       "<style scoped>\n",
       "    .dataframe tbody tr th:only-of-type {\n",
       "        vertical-align: middle;\n",
       "    }\n",
       "\n",
       "    .dataframe tbody tr th {\n",
       "        vertical-align: top;\n",
       "    }\n",
       "\n",
       "    .dataframe thead th {\n",
       "        text-align: right;\n",
       "    }\n",
       "</style>\n",
       "<table border=\"1\" class=\"dataframe\">\n",
       "  <thead>\n",
       "    <tr style=\"text-align: right;\">\n",
       "      <th></th>\n",
       "      <th>0</th>\n",
       "      <th>1</th>\n",
       "      <th>2</th>\n",
       "      <th>3</th>\n",
       "      <th>4</th>\n",
       "      <th>5</th>\n",
       "    </tr>\n",
       "  </thead>\n",
       "  <tbody>\n",
       "    <tr>\n",
       "      <th>hi</th>\n",
       "      <td>[4, 5.5]</td>\n",
       "      <td>[5.5, 6]</td>\n",
       "      <td>[6, 6.5]</td>\n",
       "      <td>[6.5, 7]</td>\n",
       "      <td>[7, 7.5]</td>\n",
       "      <td>[7.5, 9]</td>\n",
       "    </tr>\n",
       "    <tr>\n",
       "      <th>ni</th>\n",
       "      <td>22</td>\n",
       "      <td>66</td>\n",
       "      <td>106</td>\n",
       "      <td>116</td>\n",
       "      <td>64</td>\n",
       "      <td>26</td>\n",
       "    </tr>\n",
       "    <tr>\n",
       "      <th>pi</th>\n",
       "      <td>0.0637</td>\n",
       "      <td>0.156193</td>\n",
       "      <td>0.271859</td>\n",
       "      <td>0.275921</td>\n",
       "      <td>0.163301</td>\n",
       "      <td>0.069026</td>\n",
       "    </tr>\n",
       "  </tbody>\n",
       "</table>\n",
       "</div>"
      ],
      "text/plain": [
       "           0         1         2         3         4         5\n",
       "hi  [4, 5.5]  [5.5, 6]  [6, 6.5]  [6.5, 7]  [7, 7.5]  [7.5, 9]\n",
       "ni        22        66       106       116        64        26\n",
       "pi    0.0637  0.156193  0.271859  0.275921  0.163301  0.069026"
      ]
     },
     "execution_count": 17,
     "metadata": {},
     "output_type": "execute_result"
    }
   ],
   "source": [
    "list_ =[]\n",
    "for i in table['hi']:\n",
    "    xx = (i[1]-x)/s\n",
    "    p = laplace_cdf_integral(xx)\n",
    "    list_.append(p)\n",
    "    \n",
    "p=[]\n",
    "for i in range(len(list_)):\n",
    "    if i==0: p.append(0.5+list_[i])\n",
    "    elif i==len(list_)-1: p.append(1-sum(p))\n",
    "    else: p.append(list_[i] - list_[i-1])\n",
    "table['pi']=p\n",
    "mrg(mrg(table)).T"
   ]
  },
  {
   "cell_type": "code",
   "execution_count": 12,
   "id": "14b1ed4e-9b83-4d11-b5fb-3370910fd0fb",
   "metadata": {},
   "outputs": [
    {
     "data": {
      "text/plain": [
       "1.1511665912886841"
      ]
     },
     "execution_count": 12,
     "metadata": {},
     "output_type": "execute_result"
    }
   ],
   "source": [
    "X_empirical = Pirsons_criterion(mrg(mrg(table)))\n",
    "X_empirical"
   ]
  },
  {
   "cell_type": "markdown",
   "id": "8bc8a789-2af5-4895-8c59-f12cb622c88c",
   "metadata": {},
   "source": [
    "### Обчислення критичного значення критерію Пірсона"
   ]
  },
  {
   "cell_type": "code",
   "execution_count": 13,
   "id": "8aa1a618-5a71-48bf-9900-7294bfb3c578",
   "metadata": {},
   "outputs": [
    {
     "name": "stdin",
     "output_type": "stream",
     "text": [
      "Введіть рівень значущості:  0.05\n"
     ]
    }
   ],
   "source": [
    "level_of_significance = float(input(\"Введіть рівень значущості: \"))"
   ]
  },
  {
   "cell_type": "code",
   "execution_count": 14,
   "id": "ede7d466-e9ea-4382-9bf9-e1d5093baf40",
   "metadata": {},
   "outputs": [
    {
     "data": {
      "text/plain": [
       "7.814727903251178"
      ]
     },
     "execution_count": 14,
     "metadata": {},
     "output_type": "execute_result"
    }
   ],
   "source": [
    "X_critical = scipy.stats.chi2.isf(level_of_significance, mrg(mrg(table)).shape[0]-1-minus) # alpha, d.f.\n",
    "X_critical"
   ]
  },
  {
   "cell_type": "markdown",
   "id": "f44e37e1-93f3-434e-8df6-a251cc704264",
   "metadata": {},
   "source": [
    "# Висновок"
   ]
  },
  {
   "cell_type": "code",
   "execution_count": 15,
   "id": "6a21f2ef-a37f-487c-9b0f-551a18ce0764",
   "metadata": {},
   "outputs": [
    {
     "name": "stdout",
     "output_type": "stream",
     "text": [
      "Гіпотеза приймається\n"
     ]
    }
   ],
   "source": [
    "if X_empirical<X_critical: print(\"Гіпотеза приймається\")\n",
    "elif X_empirical>X_critical: print(\"Гіпотеза НЕ приймається\")"
   ]
  },
  {
   "cell_type": "markdown",
   "id": "ca3b4f08-b599-4c4d-aaed-9dec79e6afc2",
   "metadata": {},
   "source": [
    "# Частина №2"
   ]
  },
  {
   "cell_type": "code",
   "execution_count": 56,
   "id": "c0a11b4d-fcd7-4282-b302-28adf2c039ce",
   "metadata": {},
   "outputs": [
    {
     "data": {
      "text/html": [
       "<div>\n",
       "<style scoped>\n",
       "    .dataframe tbody tr th:only-of-type {\n",
       "        vertical-align: middle;\n",
       "    }\n",
       "\n",
       "    .dataframe tbody tr th {\n",
       "        vertical-align: top;\n",
       "    }\n",
       "\n",
       "    .dataframe thead th {\n",
       "        text-align: right;\n",
       "    }\n",
       "</style>\n",
       "<table border=\"1\" class=\"dataframe\">\n",
       "  <thead>\n",
       "    <tr style=\"text-align: right;\">\n",
       "      <th></th>\n",
       "      <th>0</th>\n",
       "      <th>1</th>\n",
       "      <th>2</th>\n",
       "      <th>3</th>\n",
       "      <th>4</th>\n",
       "      <th>5</th>\n",
       "      <th>6</th>\n",
       "      <th>7</th>\n",
       "      <th>8</th>\n",
       "      <th>9</th>\n",
       "    </tr>\n",
       "  </thead>\n",
       "  <tbody>\n",
       "    <tr>\n",
       "      <th>hi</th>\n",
       "      <td>[0.0, 1.5]</td>\n",
       "      <td>[1.5, 3.0]</td>\n",
       "      <td>[3.0, 4.5]</td>\n",
       "      <td>[4.5, 6.0]</td>\n",
       "      <td>[6.0, 7.5]</td>\n",
       "      <td>[7.5, 9.0]</td>\n",
       "      <td>[9.0, 10.5]</td>\n",
       "      <td>[10.5, 12.0]</td>\n",
       "      <td>[12.0, 13.5]</td>\n",
       "      <td>[13.5, 15.0]</td>\n",
       "    </tr>\n",
       "    <tr>\n",
       "      <th>ni</th>\n",
       "      <td>142</td>\n",
       "      <td>141</td>\n",
       "      <td>138</td>\n",
       "      <td>136</td>\n",
       "      <td>137</td>\n",
       "      <td>142</td>\n",
       "      <td>143</td>\n",
       "      <td>154</td>\n",
       "      <td>144</td>\n",
       "      <td>135</td>\n",
       "    </tr>\n",
       "  </tbody>\n",
       "</table>\n",
       "</div>"
      ],
      "text/plain": [
       "             0           1           2           3           4           5  \\\n",
       "hi  [0.0, 1.5]  [1.5, 3.0]  [3.0, 4.5]  [4.5, 6.0]  [6.0, 7.5]  [7.5, 9.0]   \n",
       "ni         142         141         138         136         137         142   \n",
       "\n",
       "              6             7             8             9  \n",
       "hi  [9.0, 10.5]  [10.5, 12.0]  [12.0, 13.5]  [13.5, 15.0]  \n",
       "ni          143           154           144           135  "
      ]
     },
     "execution_count": 56,
     "metadata": {},
     "output_type": "execute_result"
    }
   ],
   "source": [
    "filename = 'data_p2.txt'\n",
    "with open(filename, 'r') as file:\n",
    "    lines = file.readlines()\n",
    "hi = []\n",
    "ni = []\n",
    "for line in lines[:10]:\n",
    "    start, end = map(float, line.strip().split(','))\n",
    "    hi.append([start, end])\n",
    "\n",
    "ni = list(map(int, lines[-1].strip().split(',')))\n",
    "#hi = [[2, 4], [4, 6], [6, 8], [8, 10], [10, 12]]\n",
    "#ni = [24, 16, 17, 22, 21]\n",
    "data = {'hi': hi, 'ni': ni}\n",
    "table = pd.DataFrame(data)\n",
    "table.T"
   ]
  },
  {
   "cell_type": "code",
   "execution_count": 57,
   "id": "4c2d5068-21ad-4c4f-b310-bd569854a12e",
   "metadata": {},
   "outputs": [
    {
     "data": {
      "image/png": "[encoded data removed]",
      "text/plain": [
       "<Figure size 640x480 with 1 Axes>"
      ]
     },
     "metadata": {},
     "output_type": "display_data"
    }
   ],
   "source": [
    "counts = table['ni']\n",
    "\n",
    "plt.bar(range(len(table)), counts, tick_label=[f'{hi}' for hi in table['hi']])\n",
    "plt.title('Histogram of Frequencies')\n",
    "plt.xticks(rotation=45)\n",
    "\n",
    "plt.tight_layout()\n",
    "plt.show()"
   ]
  },
  {
   "cell_type": "markdown",
   "id": "45dc1594-a232-4928-b773-9602d93a03f5",
   "metadata": {},
   "source": [
    "# Гіпотеза: Розподіл є рівномірним"
   ]
  },
  {
   "cell_type": "markdown",
   "id": "3ffa6260-357c-4f40-ba4f-0f097620b85f",
   "metadata": {},
   "source": [
    "## Визначення параметрів розподілу"
   ]
  },
  {
   "cell_type": "code",
   "execution_count": 58,
   "id": "38f143c4-92bc-49ac-a23b-369ee76f1424",
   "metadata": {},
   "outputs": [
    {
     "name": "stdin",
     "output_type": "stream",
     "text": [
      "Якщо хочите ввести параметри розподілу введіть 1, якщо ні - 0 0\n"
     ]
    },
    {
     "name": "stdout",
     "output_type": "stream",
     "text": [
      "0.07751560769360477 14.990473060861635\n"
     ]
    }
   ],
   "source": [
    "choice=input(\"Якщо хочите ввести параметри розподілу введіть 1, якщо ні - 0\")  \n",
    "if choice==\"1\":\n",
    "    minus=0\n",
    "    a = input(\"Введіть мат. сподівання: \")\n",
    "    b = input(\"Введіть квадр. відхилення: \")\n",
    "elif choice ==\"0\":\n",
    "    minus=2\n",
    "    a=sample_average(table)-((3**(1/2))*standard(table))\n",
    "    b=sample_average(table)+3**(1/2)*standard(table)\n",
    "print(a, b)"
   ]
  },
  {
   "cell_type": "code",
   "execution_count": 72,
   "id": "76727ebb-757e-4718-b511-3bc545952f1a",
   "metadata": {},
   "outputs": [
    {
     "data": {
      "text/html": [
       "<div>\n",
       "<style scoped>\n",
       "    .dataframe tbody tr th:only-of-type {\n",
       "        vertical-align: middle;\n",
       "    }\n",
       "\n",
       "    .dataframe tbody tr th {\n",
       "        vertical-align: top;\n",
       "    }\n",
       "\n",
       "    .dataframe thead th {\n",
       "        text-align: right;\n",
       "    }\n",
       "</style>\n",
       "<table border=\"1\" class=\"dataframe\">\n",
       "  <thead>\n",
       "    <tr style=\"text-align: right;\">\n",
       "      <th></th>\n",
       "      <th>0</th>\n",
       "      <th>1</th>\n",
       "      <th>2</th>\n",
       "      <th>3</th>\n",
       "      <th>4</th>\n",
       "      <th>5</th>\n",
       "      <th>6</th>\n",
       "      <th>7</th>\n",
       "      <th>8</th>\n",
       "      <th>9</th>\n",
       "    </tr>\n",
       "  </thead>\n",
       "  <tbody>\n",
       "    <tr>\n",
       "      <th>hi</th>\n",
       "      <td>[0.0, 1.5]</td>\n",
       "      <td>[1.5, 3.0]</td>\n",
       "      <td>[3.0, 4.5]</td>\n",
       "      <td>[4.5, 6.0]</td>\n",
       "      <td>[6.0, 7.5]</td>\n",
       "      <td>[7.5, 9.0]</td>\n",
       "      <td>[9.0, 10.5]</td>\n",
       "      <td>[10.5, 12.0]</td>\n",
       "      <td>[12.0, 13.5]</td>\n",
       "      <td>[13.5, 15.0]</td>\n",
       "    </tr>\n",
       "    <tr>\n",
       "      <th>ni</th>\n",
       "      <td>142</td>\n",
       "      <td>141</td>\n",
       "      <td>138</td>\n",
       "      <td>136</td>\n",
       "      <td>137</td>\n",
       "      <td>142</td>\n",
       "      <td>143</td>\n",
       "      <td>154</td>\n",
       "      <td>144</td>\n",
       "      <td>135</td>\n",
       "    </tr>\n",
       "    <tr>\n",
       "      <th>pi</th>\n",
       "      <td>0.095</td>\n",
       "      <td>0.101</td>\n",
       "      <td>0.101</td>\n",
       "      <td>0.101</td>\n",
       "      <td>0.101</td>\n",
       "      <td>0.101</td>\n",
       "      <td>0.101</td>\n",
       "      <td>0.101</td>\n",
       "      <td>0.101</td>\n",
       "      <td>0.097</td>\n",
       "    </tr>\n",
       "  </tbody>\n",
       "</table>\n",
       "</div>"
      ],
      "text/plain": [
       "             0           1           2           3           4           5  \\\n",
       "hi  [0.0, 1.5]  [1.5, 3.0]  [3.0, 4.5]  [4.5, 6.0]  [6.0, 7.5]  [7.5, 9.0]   \n",
       "ni         142         141         138         136         137         142   \n",
       "pi       0.095       0.101       0.101       0.101       0.101       0.101   \n",
       "\n",
       "              6             7             8             9  \n",
       "hi  [9.0, 10.5]  [10.5, 12.0]  [12.0, 13.5]  [13.5, 15.0]  \n",
       "ni          143           154           144           135  \n",
       "pi        0.101         0.101         0.101         0.097  "
      ]
     },
     "execution_count": 72,
     "metadata": {},
     "output_type": "execute_result"
    }
   ],
   "source": [
    "pi=[]\n",
    "for i in range(len(table['hi'])):\n",
    "    if i==0 : pi.append(round(1/(b-a)*(table['hi'][i][1]-a), 3))\n",
    "    elif i==len(table['hi'])-1 :  \n",
    "        sm = sum(pi)\n",
    "        pi.append(round(1 - sm, 3))\n",
    "    else: pi.append(round(1/(b-a)*(table['hi'][i][1]-table['hi'][i-1][1]),3))\n",
    "table['pi']=pi\n",
    "table[['hi', 'ni', 'pi']].T"
   ]
  },
  {
   "cell_type": "markdown",
   "id": "d6eb7533-7e19-460d-be68-9eb4bc47f79c",
   "metadata": {},
   "source": [
    "### Обчислення емпіричного значення критерію Пірсона"
   ]
  },
  {
   "cell_type": "code",
   "execution_count": 73,
   "id": "af575ad3-8e4e-4e48-aee8-efab300c8fce",
   "metadata": {},
   "outputs": [
    {
     "data": {
      "text/plain": [
       "2.110048111142551"
      ]
     },
     "execution_count": 73,
     "metadata": {},
     "output_type": "execute_result"
    }
   ],
   "source": [
    "X_empirical = Pirsons_criterion(table)\n",
    "X_empirical"
   ]
  },
  {
   "cell_type": "markdown",
   "id": "cc1f667a-46b9-4596-9464-9efc3ea0060a",
   "metadata": {},
   "source": [
    "### Обчислення критичного значення критерію Пірсона"
   ]
  },
  {
   "cell_type": "code",
   "execution_count": 74,
   "id": "26f93b45-4d3a-4660-ae47-cb8aadafdec1",
   "metadata": {},
   "outputs": [
    {
     "name": "stdin",
     "output_type": "stream",
     "text": [
      "Введіть рівень значущості:  0.05\n"
     ]
    }
   ],
   "source": [
    "level_of_significance = float(input(\"Введіть рівень значущості: \"))"
   ]
  },
  {
   "cell_type": "code",
   "execution_count": 75,
   "id": "b04862ac-81ee-469a-a20d-3c5778409949",
   "metadata": {},
   "outputs": [
    {
     "data": {
      "text/plain": [
       "14.067140449340167"
      ]
     },
     "execution_count": 75,
     "metadata": {},
     "output_type": "execute_result"
    }
   ],
   "source": [
    "X_critical = scipy.stats.chi2.isf(level_of_significance, table.shape[0]-1-minus) \n",
    "X_critical"
   ]
  },
  {
   "cell_type": "markdown",
   "id": "bf96865a-f966-4ff6-a79b-30e3c5db692a",
   "metadata": {},
   "source": [
    "# Висновок"
   ]
  },
  {
   "cell_type": "code",
   "execution_count": 66,
   "id": "0e9b11a7-b786-481d-875d-bd46e4623f6f",
   "metadata": {},
   "outputs": [
    {
     "name": "stdout",
     "output_type": "stream",
     "text": [
      "Гіпотеза приймається\n"
     ]
    }
   ],
   "source": [
    "if X_empirical<X_critical: print(\"Гіпотеза приймається\")\n",
    "elif X_empirical>X_critical: print(\"Гіпотеза НЕ приймається\")"
   ]
  },
  {
   "cell_type": "code",
   "execution_count": null,
   "id": "d3b76917-bae1-4c69-b4dc-2875f3fd5b55",
   "metadata": {},
   "outputs": [],
   "source": []
  }
 ],
 "metadata": {
  "kernelspec": {
   "display_name": "Python 3 (ipykernel)",
   "language": "python",
   "name": "python3"
  },
  "language_info": {
   "codemirror_mode": {
    "name": "ipython",
    "version": 3
   },
   "file_extension": ".py",
   "mimetype": "text/x-python",
   "name": "python",
   "nbconvert_exporter": "python",
   "pygments_lexer": "ipython3",
   "version": "3.11.8"
  }
 },
 "nbformat": 4,
 "nbformat_minor": 5
}
