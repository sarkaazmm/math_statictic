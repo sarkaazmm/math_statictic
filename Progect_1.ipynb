{
 "cells": [
  {
   "cell_type": "code",
   "execution_count": 1,
   "id": "f23d0972-40c7-418b-98bd-422194392b3d",
   "metadata": {
    "tags": []
   },
   "outputs": [],
   "source": [
    "import random\n",
    "import pandas as pd\n",
    "import numpy as np\n",
    "import matplotlib.pyplot as plt"
   ]
  },
  {
   "cell_type": "markdown",
   "id": "8c2c9e7c-ef19-4e94-9bf0-c9941d74bc0b",
   "metadata": {
    "tags": []
   },
   "source": [
    "## Генерування вибірки"
   ]
  },
  {
   "cell_type": "code",
   "execution_count": 3,
   "id": "476a3371-5cd3-4f43-9a81-e88deb994b35",
   "metadata": {
    "tags": []
   },
   "outputs": [
    {
     "name": "stdout",
     "output_type": "stream",
     "text": [
      "[10, 5, 7, 10, 14, 8, 9, 1, 2, 15, 11, 7, 8, 11, 4, 4, 3, 14, 13, 8, 6, 5, 5, 3, 4, 1, 3, 2, 9, 11, 6, 4, 6, 4, 3, 4, 3, 2, 15, 4, 11, 4, 15, 12, 1, 6, 13, 8, 15, 12]\n"
     ]
    }
   ],
   "source": [
    "randomlist = []\n",
    "lower_limits = 1#int(input(\"Enter the liwer limit: \"))\n",
    "upper_limits = 15#int(input(\"Enter the upper limit: \"))\n",
    "\n",
    "for i in range(0,50):\n",
    "    n = random.randint(lower_limits,upper_limits)\n",
    "    randomlist.append(n)\n",
    "#randomlist=[2,5,0,1,3,0,1,5,4,0,3,3,2,1,4,0,0,2,3,6,0,3,0,1,1]\n",
    "#randomlist=[0,0,0,0,0,0,0,0,0,0,0,0,0,0,0,0,0,0,0,0,0,0,0,0,0,0,0,0,0,0,0,0,0,0,0,1,1,1,1,1,1,1,1,1,1,1,1,1,1,1,1,1,1,1,1,1,1,1,1,1,1,1,1,1,1,1,1,1,1,1,1,1,1,2,2,2,2,2,2,2,2,2,2,2,2,2,2,2,2,2,2,2,2,3,3,3,3,3,3,4]\n",
    "#randomlist=[9, 15, 15, 11, 13, 3, 2, 13, 8, 4, 1, 8, 3, 2, 15, 9, 3, 10, 11, 14, 14, 3, 10, 15, 14, 4, 4, 7, 9, 2, 10, 7, 15, 7, 13, 7, 7, 9, 5, 5, 9, 7, 12, 3, 13, 5, 11, 15, 10, 8]\n",
    "print(randomlist)"
   ]
  },
  {
   "cell_type": "markdown",
   "id": "bc0cb6b3-5ac6-4dc6-9c8a-93f7fced53c2",
   "metadata": {
    "tags": []
   },
   "source": [
    "# - Дискретний статистичний розподіл"
   ]
  },
  {
   "cell_type": "markdown",
   "id": "1c801cb1-2aca-4469-b5ea-3bf9dbb7001c",
   "metadata": {},
   "source": [
    "### Варіаційний ряд та частотна таблиця"
   ]
  },
  {
   "cell_type": "code",
   "execution_count": 4,
   "id": "71885be9-06b2-4c30-b647-825d65129476",
   "metadata": {
    "tags": []
   },
   "outputs": [
    {
     "name": "stdout",
     "output_type": "stream",
     "text": [
      "[1, 1, 1, 2, 2, 2, 3, 3, 3, 3, 3, 4, 4, 4, 4, 4, 4, 4, 4, 5, 5, 5, 6, 6, 6, 6, 7, 7, 8, 8, 8, 8, 9, 9, 10, 10, 11, 11, 11, 11, 12, 12, 13, 13, 14, 14, 15, 15, 15, 15]\n"
     ]
    }
   ],
   "source": [
    "randomlist.sort()\n",
    "print(randomlist)"
   ]
  },
  {
   "cell_type": "code",
   "execution_count": 5,
   "id": "c2f933ce-996f-4ad5-a1bb-83719f830ecd",
   "metadata": {
    "tags": []
   },
   "outputs": [
    {
     "data": {
      "text/html": [
       "<div>\n",
       "<style scoped>\n",
       "    .dataframe tbody tr th:only-of-type {\n",
       "        vertical-align: middle;\n",
       "    }\n",
       "\n",
       "    .dataframe tbody tr th {\n",
       "        vertical-align: top;\n",
       "    }\n",
       "\n",
       "    .dataframe thead th {\n",
       "        text-align: right;\n",
       "    }\n",
       "</style>\n",
       "<table border=\"1\" class=\"dataframe\">\n",
       "  <thead>\n",
       "    <tr style=\"text-align: right;\">\n",
       "      <th></th>\n",
       "      <th>0</th>\n",
       "      <th>1</th>\n",
       "      <th>2</th>\n",
       "      <th>3</th>\n",
       "      <th>4</th>\n",
       "      <th>5</th>\n",
       "      <th>6</th>\n",
       "      <th>7</th>\n",
       "      <th>8</th>\n",
       "      <th>9</th>\n",
       "      <th>10</th>\n",
       "      <th>11</th>\n",
       "      <th>12</th>\n",
       "      <th>13</th>\n",
       "      <th>14</th>\n",
       "    </tr>\n",
       "  </thead>\n",
       "  <tbody>\n",
       "    <tr>\n",
       "      <th>event</th>\n",
       "      <td>1</td>\n",
       "      <td>2</td>\n",
       "      <td>3</td>\n",
       "      <td>4</td>\n",
       "      <td>5</td>\n",
       "      <td>6</td>\n",
       "      <td>7</td>\n",
       "      <td>8</td>\n",
       "      <td>9</td>\n",
       "      <td>10</td>\n",
       "      <td>11</td>\n",
       "      <td>12</td>\n",
       "      <td>13</td>\n",
       "      <td>14</td>\n",
       "      <td>15</td>\n",
       "    </tr>\n",
       "    <tr>\n",
       "      <th>frequency</th>\n",
       "      <td>3</td>\n",
       "      <td>3</td>\n",
       "      <td>5</td>\n",
       "      <td>8</td>\n",
       "      <td>3</td>\n",
       "      <td>4</td>\n",
       "      <td>2</td>\n",
       "      <td>4</td>\n",
       "      <td>2</td>\n",
       "      <td>2</td>\n",
       "      <td>4</td>\n",
       "      <td>2</td>\n",
       "      <td>2</td>\n",
       "      <td>2</td>\n",
       "      <td>4</td>\n",
       "    </tr>\n",
       "  </tbody>\n",
       "</table>\n",
       "</div>"
      ],
      "text/plain": [
       "           0   1   2   3   4   5   6   7   8   9   10  11  12  13  14\n",
       "event       1   2   3   4   5   6   7   8   9  10  11  12  13  14  15\n",
       "frequency   3   3   5   8   3   4   2   4   2   2   4   2   2   2   4"
      ]
     },
     "metadata": {},
     "output_type": "display_data"
    }
   ],
   "source": [
    "frequency_table = pd.DataFrame({'event': randomlist})\n",
    "frequency_table['frequency'] = 1\n",
    "frequency_table=pd.DataFrame(frequency_table.groupby('event')['frequency'].sum()).reset_index()\n",
    "display(frequency_table.T)"
   ]
  },
  {
   "cell_type": "markdown",
   "id": "303d4f4b-341c-4ac0-8975-ad431798c1ed",
   "metadata": {
    "tags": []
   },
   "source": [
    "### Графічно представлені статистичні дані"
   ]
  },
  {
   "cell_type": "code",
   "execution_count": 6,
   "id": "739948e0-6902-41eb-a013-26c1fd7ab0b1",
   "metadata": {
    "tags": []
   },
   "outputs": [
    {
     "data": {
      "image/png": "[encoded data removed]",
      "text/plain": [
       "<Figure size 640x480 with 1 Axes>"
      ]
     },
     "metadata": {},
     "output_type": "display_data"
    }
   ],
   "source": [
    "x = frequency_table['event']\n",
    "y = frequency_table['frequency']\n",
    "\n",
    "plt.plot(x, y)\n",
    "plt.title('Полігон частот')\n",
    "plt.show()"
   ]
  },
  {
   "cell_type": "markdown",
   "id": "4c92c1d6-874e-46f5-bb1d-3250f102ed55",
   "metadata": {},
   "source": [
    "### Графік емпіричної функції розподілу"
   ]
  },
  {
   "cell_type": "code",
   "execution_count": 7,
   "id": "e5460ab5-7d40-41b4-ad84-757bd17d681d",
   "metadata": {},
   "outputs": [
    {
     "data": {
      "image/png": "[encoded data removed]",
      "text/plain": [
       "<Figure size 640x480 with 1 Axes>"
      ]
     },
     "metadata": {},
     "output_type": "display_data"
    }
   ],
   "source": [
    "cumulative_frequency = frequency_table['frequency'].cumsum()\n",
    "relative_frequency = cumulative_frequency / cumulative_frequency.max()\n",
    "x = list(frequency_table['event'])\n",
    "x.append(x[-1] + 1)\n",
    "\n",
    "plt.hlines(relative_frequency, x[:-1], x[1:])\n",
    "plt.title('Графік емпіричної функції розподілу')\n",
    "plt.show()"
   ]
  },
  {
   "cell_type": "markdown",
   "id": "45f6c92f-d126-4ba4-b4d1-87182d74b9ad",
   "metadata": {},
   "source": [
    "## - Числові характеристики дисктетного розподілу -"
   ]
  },
  {
   "cell_type": "markdown",
   "id": "1a4f3137-0ff1-42a9-8836-81f898c8b37f",
   "metadata": {},
   "source": [
    "### 1.Середновибіркове"
   ]
  },
  {
   "cell_type": "code",
   "execution_count": 8,
   "id": "8d7646b8-e122-4875-b6ae-b34fa3909ff7",
   "metadata": {},
   "outputs": [
    {
     "data": {
      "text/plain": [
       "7.22"
      ]
     },
     "execution_count": 8,
     "metadata": {},
     "output_type": "execute_result"
    }
   ],
   "source": [
    "buf = frequency_table['event']*frequency_table['frequency'] \n",
    "x1=buf.sum()/len(randomlist)\n",
    "x1"
   ]
  },
  {
   "cell_type": "markdown",
   "id": "e591958b-ab46-4fe3-97be-561f61ae6b04",
   "metadata": {},
   "source": [
    "### 2.Медіана"
   ]
  },
  {
   "cell_type": "code",
   "execution_count": 9,
   "id": "38b96da8-549c-4722-b37b-5d4862420f82",
   "metadata": {},
   "outputs": [
    {
     "name": "stdout",
     "output_type": "stream",
     "text": [
      "6.0\n"
     ]
    }
   ],
   "source": [
    "if len(randomlist)%2 == 0:\n",
    "    k=len(randomlist)/2\n",
    "    Me=(randomlist[int(k-1)]+randomlist[int(k)])/2\n",
    "else:\n",
    "    k=(len(randomlist)-1)/2\n",
    "    Me=randomlist[int(k)]\n",
    "print(Me)"
   ]
  },
  {
   "cell_type": "markdown",
   "id": "6916f349-9833-420a-a783-05fbc575c966",
   "metadata": {},
   "source": [
    "### 3.Мода"
   ]
  },
  {
   "cell_type": "code",
   "execution_count": 10,
   "id": "7642169d-4bf6-44e7-9161-25f753c9cf08",
   "metadata": {},
   "outputs": [
    {
     "name": "stdout",
     "output_type": "stream",
     "text": [
      "4\n"
     ]
    }
   ],
   "source": [
    "buf=int(frequency_table['frequency'].max())\n",
    "for i in range(len(frequency_table)):\n",
    "    if frequency_table['frequency'][i]==buf:\n",
    "        print(frequency_table['event'][i])"
   ]
  },
  {
   "cell_type": "markdown",
   "id": "c68abfa2-0c02-479e-ab55-e18917f97c5a",
   "metadata": {},
   "source": [
    "### 4.Розмах"
   ]
  },
  {
   "cell_type": "code",
   "execution_count": 11,
   "id": "cd004c7d-2e1e-4c4e-8a30-5d57f7624982",
   "metadata": {
    "tags": []
   },
   "outputs": [
    {
     "data": {
      "text/plain": [
       "14"
      ]
     },
     "execution_count": 11,
     "metadata": {},
     "output_type": "execute_result"
    }
   ],
   "source": [
    "frequency_table['event'].max()-frequency_table['event'].min()"
   ]
  },
  {
   "cell_type": "markdown",
   "id": "682b26dd-b88b-4f0a-be66-ca4db5549b78",
   "metadata": {},
   "source": [
    "### 5.Девіація"
   ]
  },
  {
   "cell_type": "code",
   "execution_count": 12,
   "id": "9bab429e-d9f6-4218-8728-e175052f9d0f",
   "metadata": {
    "tags": []
   },
   "outputs": [
    {
     "data": {
      "text/plain": [
       "918.5799999999998"
      ]
     },
     "execution_count": 12,
     "metadata": {},
     "output_type": "execute_result"
    }
   ],
   "source": [
    "dev=0\n",
    "for i in range(len(frequency_table)):\n",
    "    dev=dev+frequency_table['frequency'][i]*((frequency_table['event'][i]-x1)**2)\n",
    "dev"
   ]
  },
  {
   "cell_type": "markdown",
   "id": "d0a7fc5d-b284-448b-b16b-73dbc75c4f3d",
   "metadata": {},
   "source": [
    "### 6.Варіанса"
   ]
  },
  {
   "cell_type": "code",
   "execution_count": 13,
   "id": "ae0ba369-31a7-4c1c-944e-f9209f29c8b8",
   "metadata": {
    "tags": []
   },
   "outputs": [
    {
     "data": {
      "text/plain": [
       "18.746530612244893"
      ]
     },
     "execution_count": 13,
     "metadata": {},
     "output_type": "execute_result"
    }
   ],
   "source": [
    "S=dev/(len(randomlist)-1)\n",
    "S"
   ]
  },
  {
   "cell_type": "markdown",
   "id": "7208c91b-54cb-4526-b670-791553df2f6e",
   "metadata": {},
   "source": [
    "### 7.Стандарт"
   ]
  },
  {
   "cell_type": "code",
   "execution_count": 14,
   "id": "adcf3bda-cddc-45b6-a5e0-91964c8467b0",
   "metadata": {
    "tags": []
   },
   "outputs": [
    {
     "data": {
      "text/plain": [
       "4.329726389997974"
      ]
     },
     "execution_count": 14,
     "metadata": {},
     "output_type": "execute_result"
    }
   ],
   "source": [
    "s=S**(1/2)\n",
    "s"
   ]
  },
  {
   "cell_type": "markdown",
   "id": "3b0224f4-ebca-43e1-818f-af251e3a5652",
   "metadata": {},
   "source": [
    "### 8.Варіація"
   ]
  },
  {
   "cell_type": "code",
   "execution_count": 15,
   "id": "9ce1c1fc-1c60-4cc3-8e69-ce4d8f901823",
   "metadata": {
    "tags": []
   },
   "outputs": [
    {
     "data": {
      "text/plain": [
       "0.5996850955675865"
      ]
     },
     "execution_count": 15,
     "metadata": {},
     "output_type": "execute_result"
    }
   ],
   "source": [
    "v=s/x1\n",
    "v"
   ]
  },
  {
   "cell_type": "markdown",
   "id": "78934f0a-0ee8-4924-b9af-9223ffc75d78",
   "metadata": {},
   "source": [
    "### 9.Вибіркова дисперсія"
   ]
  },
  {
   "cell_type": "code",
   "execution_count": 16,
   "id": "2fdccb01-826b-484c-8eaf-ab34a2c45e06",
   "metadata": {
    "tags": []
   },
   "outputs": [
    {
     "data": {
      "text/plain": [
       "18.371599999999997"
      ]
     },
     "execution_count": 16,
     "metadata": {},
     "output_type": "execute_result"
    }
   ],
   "source": [
    "D=dev/len(randomlist)\n",
    "D"
   ]
  },
  {
   "cell_type": "markdown",
   "id": "a274f9ab-6533-4504-8fb2-f7fe44cc0550",
   "metadata": {},
   "source": [
    "### 10.Вибіркове середньо квадратичне відхилення"
   ]
  },
  {
   "cell_type": "code",
   "execution_count": 17,
   "id": "4ac2f809-ca05-472f-89a9-db824b33ad55",
   "metadata": {
    "tags": []
   },
   "outputs": [
    {
     "data": {
      "text/plain": [
       "4.286210447469886"
      ]
     },
     "execution_count": 17,
     "metadata": {},
     "output_type": "execute_result"
    }
   ],
   "source": [
    "sigma= pow(D,0.5)\n",
    "sigma"
   ]
  },
  {
   "cell_type": "markdown",
   "id": "7e1cdc49-08c1-45c4-a5ad-e9487d62f87f",
   "metadata": {},
   "source": [
    "### 11. Асиметрія"
   ]
  },
  {
   "cell_type": "code",
   "execution_count": 18,
   "id": "49616226-6951-4a6e-acb1-29beb0cefe6f",
   "metadata": {},
   "outputs": [
    {
     "data": {
      "text/plain": [
       "0.39423805738819767"
      ]
     },
     "execution_count": 18,
     "metadata": {},
     "output_type": "execute_result"
    }
   ],
   "source": [
    "frequency_table['xi-x-'] = frequency_table['event']-x1\n",
    "frequency_table['ni(xi-x-)^3'] = frequency_table['frequency']*frequency_table['xi-x-']**3\n",
    "As=(frequency_table['ni(xi-x-)^3'].sum()/len(randomlist))/(pow(sigma,3))\n",
    "As"
   ]
  },
  {
   "cell_type": "markdown",
   "id": "23cc42c3-254d-4e0c-9b6c-3ccd3677d71b",
   "metadata": {},
   "source": [
    "### 12.Ексцес"
   ]
  },
  {
   "cell_type": "code",
   "execution_count": 20,
   "id": "842d155d-9cd1-45be-9e68-e866c474709c",
   "metadata": {},
   "outputs": [
    {
     "data": {
      "text/plain": [
       "-1.0824484132385734"
      ]
     },
     "execution_count": 20,
     "metadata": {},
     "output_type": "execute_result"
    }
   ],
   "source": [
    "frequency_table['ni(xi-x-)^4'] = frequency_table['frequency']*frequency_table['xi-x-']**4\n",
    "Ex=(frequency_table['ni(xi-x-)^4'].sum()/len(randomlist))/(pow(sigma,4))-3\n",
    "\n",
    "Ex"
   ]
  },
  {
   "cell_type": "code",
   "execution_count": 21,
   "id": "00411280-9fd6-469e-916d-82254f2b184a",
   "metadata": {},
   "outputs": [
    {
     "name": "stdout",
     "output_type": "stream",
     "text": [
      "Дицилій\n",
      "[2, 3, 4, 5, 6, 8, 10, 12, 14]\n",
      "12\n"
     ]
    }
   ],
   "source": [
    "arr=[4,8,10]\n",
    "ar=[]\n",
    "for i in arr:\n",
    "    if len(randomlist) % i == 0:\n",
    "        if i==4: print(\"Квартилвій\")\n",
    "        if i==8: print(\"Октилій\")\n",
    "        if i==10: print(\"Дицилій\")\n",
    "        step = len(randomlist) // i\n",
    "        for j in range(step, len(randomlist), step):\n",
    "            ar.append(randomlist[j])\n",
    "        print( ar)\n",
    "        print(ar[len(ar)-1]-ar[0])"
   ]
  },
  {
   "cell_type": "markdown",
   "id": "1c643a7a-2cbf-448b-b103-4e5b27afd43a",
   "metadata": {},
   "source": [
    "# -Інтервальний статистичний розподіл"
   ]
  },
  {
   "cell_type": "code",
   "execution_count": 22,
   "id": "38a69422-9910-4595-9783-c6e8f611633a",
   "metadata": {},
   "outputs": [
    {
     "name": "stdout",
     "output_type": "stream",
     "text": [
      "[4.944, 2.001, 2.042, 2.513, 2.925, 2.533, 1.727, 4.66, 2.022, 1.923, 5.312, 5.303, 3.843, 1.679, 1.924, 2.748, 3.697, 1.669, 3.179, 2.99, 3.486, 4.189, 4.998, 3.841, 2.388, 4.298, 3.846, 3.238, 4.343, 4.226, 1.568, 5.414, 2.62, 4.191, 1.968, 4.953, 2.482, 5.0, 2.925, 5.236, 4.266, 4.55, 2.38, 2.111, 5.293, 3.829, 1.922, 2.728, 1.571, 2.829]\n"
     ]
    }
   ],
   "source": [
    "randomlist = []\n",
    "lower_limits = 1.5#int(input(\"Enter the liwer limit: \"))\n",
    "upper_limits = 5.5#int(input(\"Enter the upper limit: \"))\n",
    "\n",
    "for i in range(0,50):\n",
    "    n = round(random.uniform(lower_limits,upper_limits), 3)\n",
    "    randomlist.append(n)\n",
    "#randomlist=[0, 0.263, 0.442, 0.057, 0.034, 0.42, 0.06, 0.402, 0.108, 0.446, 0.162, 0.12, 0.081, 0.473, 0.406, 0.024, 0.014, 0.235, 0.466, 0.378, 0.205, 0.091, 0.031, 0.238, 0.408, 0.444, 0.155, 0.459, 0.094, 0.479, 0.447, 0.487, 0.218, 0.298, 0.278, 0.234, 0.279, 0.092, 0.25, 0.258, 0.281, 0.148, 0.117, 0.049, 0.455,0.777, 0.865, 0.74, 0.956, 0.843, 0.734, 0.92, 0.655, 0.58, 0.928, 0.887, 0.878, 0.607, 0.968, 0.659, 0.58, 0.543, 0.882, 0.877, 0.806, 0.707, 0.619, 0.709, 0.676, 0.565, 0.681, 0.92, 0.597, 0.71, 0.875, 0.84, 0.619, 0.842, 0.94, 0.665, 0.941, 0.577, 0.604, 0.76, 0.784, 0.885, 0.782, 0.584, 0.661, 0.795, 0.862, 0.654, 0.969, 0.71, 0.963, 0.926, 0.908,1.173, 1.22, 1.406, 1.446, 1.466, 1.235, 1.333, 1.219, 1.393, 1.362, 1.177, 1.144, 1.059, 1.245, 1.413, 1.47, 1.352, 1.044, 1.35, 1.282, 1.267, 1.229, 1.358,1.671, 1.65, 1.631, 1.894, 1.835, 1.515, 1.533, 1.656, 1.869,2.18, 2.5]\n",
    "#randomlist=[1.613, 2.209, 2.578, 5.071, 3.384, 4.931, 5.395, 2.26, 3.881, 3.846, 4.184, 2.659, 4.732, 2.429, 3.548, 2.141, 2.06, 4.731, 3.888, 4.881, 3.605, 2.303, 2.333, 3.698, 2.274, 3.947, 3.087, 5.131, 3.445, 3.477, 3.269, 4.448, 3.215, 4.54, 4.168, 3.944, 4.889, 4.119, 3.752, 4.834, 4.985, 3.375, 1.646, 1.722, 2.266, 3.669, 2.898, 3.97, 1.911, 5.087]\n",
    "print(randomlist)"
   ]
  },
  {
   "cell_type": "code",
   "execution_count": 23,
   "id": "32fcd187-7a33-4fd7-87fb-9bb11ca069a3",
   "metadata": {},
   "outputs": [
    {
     "name": "stdout",
     "output_type": "stream",
     "text": [
      "[1.568, 1.571, 1.669, 1.679, 1.727, 1.922, 1.923, 1.924, 1.968, 2.001, 2.022, 2.042, 2.111, 2.38, 2.388, 2.482, 2.513, 2.533, 2.62, 2.728, 2.748, 2.829, 2.925, 2.925, 2.99, 3.179, 3.238, 3.486, 3.697, 3.829, 3.841, 3.843, 3.846, 4.189, 4.191, 4.226, 4.266, 4.298, 4.343, 4.55, 4.66, 4.944, 4.953, 4.998, 5.0, 5.236, 5.293, 5.303, 5.312, 5.414]\n"
     ]
    }
   ],
   "source": [
    "randomlist.sort()\n",
    "print(randomlist)"
   ]
  },
  {
   "cell_type": "code",
   "execution_count": 27,
   "id": "caf8ec95-29c4-466a-95e5-dee60fbede7e",
   "metadata": {
    "tags": []
   },
   "outputs": [],
   "source": [
    "r=1\n",
    "while (not(2**r<len(randomlist)<=2**(r+1))): r+=1\n",
    "r=r+1"
   ]
  },
  {
   "cell_type": "code",
   "execution_count": 28,
   "id": "819594ea-95c1-4b71-8704-95844e9db479",
   "metadata": {},
   "outputs": [],
   "source": [
    "min_val = min(randomlist)\n",
    "max_val = max(randomlist)\n",
    "step=(max_val-min_val)/r#0.5\n",
    "\n",
    "intervals = [(round(min_val+i*step,3),round(min_val+(i+1)*step, 3)) for i in range(r)]"
   ]
  },
  {
   "cell_type": "code",
   "execution_count": 29,
   "id": "3b21d4e9-47f0-471d-a235-8fbf8dbb5b40",
   "metadata": {},
   "outputs": [
    {
     "data": {
      "text/html": [
       "<div>\n",
       "<style scoped>\n",
       "    .dataframe tbody tr th:only-of-type {\n",
       "        vertical-align: middle;\n",
       "    }\n",
       "\n",
       "    .dataframe tbody tr th {\n",
       "        vertical-align: top;\n",
       "    }\n",
       "\n",
       "    .dataframe thead th {\n",
       "        text-align: right;\n",
       "    }\n",
       "</style>\n",
       "<table border=\"1\" class=\"dataframe\">\n",
       "  <thead>\n",
       "    <tr style=\"text-align: right;\">\n",
       "      <th></th>\n",
       "      <th>0</th>\n",
       "      <th>1</th>\n",
       "      <th>2</th>\n",
       "      <th>3</th>\n",
       "      <th>4</th>\n",
       "      <th>5</th>\n",
       "    </tr>\n",
       "  </thead>\n",
       "  <tbody>\n",
       "    <tr>\n",
       "      <th>interval</th>\n",
       "      <td>(1.568, 2.209)</td>\n",
       "      <td>(2.209, 2.85)</td>\n",
       "      <td>(2.85, 3.491)</td>\n",
       "      <td>(3.491, 4.132)</td>\n",
       "      <td>(4.132, 4.773)</td>\n",
       "      <td>(4.773, 5.414)</td>\n",
       "    </tr>\n",
       "    <tr>\n",
       "      <th>frequency</th>\n",
       "      <td>13</td>\n",
       "      <td>9</td>\n",
       "      <td>6</td>\n",
       "      <td>5</td>\n",
       "      <td>8</td>\n",
       "      <td>9</td>\n",
       "    </tr>\n",
       "  </tbody>\n",
       "</table>\n",
       "</div>"
      ],
      "text/plain": [
       "                        0              1              2               3  \\\n",
       "interval   (1.568, 2.209)  (2.209, 2.85)  (2.85, 3.491)  (3.491, 4.132)   \n",
       "frequency              13              9              6               5   \n",
       "\n",
       "                        4               5  \n",
       "interval   (4.132, 4.773)  (4.773, 5.414)  \n",
       "frequency               8               9  "
      ]
     },
     "metadata": {},
     "output_type": "display_data"
    }
   ],
   "source": [
    "counts = [0] * r\n",
    "\n",
    "for value in randomlist:\n",
    "    for i, interval in enumerate(intervals):\n",
    "        if interval[0]-1 < value <= interval[1]:\n",
    "            counts[i] += 1\n",
    "            break \n",
    "interval_table = pd.DataFrame({'interval': intervals, 'frequency':counts })\n",
    "display(interval_table.T)"
   ]
  },
  {
   "cell_type": "code",
   "execution_count": 30,
   "id": "c4fbb3aa-2da9-4676-9ac3-48f1adb67d7c",
   "metadata": {
    "tags": []
   },
   "outputs": [
    {
     "data": {
      "image/png": "[encoded data removed]",
      "text/plain": [
       "<Figure size 640x480 with 1 Axes>"
      ]
     },
     "metadata": {},
     "output_type": "display_data"
    }
   ],
   "source": [
    "plt.bar(range(len(intervals)), counts, tick_label=[f'{interval}' for interval in intervals])\n",
    "plt.title('Гістограма частот')\n",
    "plt.show()"
   ]
  },
  {
   "cell_type": "code",
   "execution_count": 31,
   "id": "498a1b14-920c-436b-968a-05f1fdb07287",
   "metadata": {},
   "outputs": [
    {
     "data": {
      "image/png": "[encoded data removed]",
      "text/plain": [
       "<Figure size 640x480 with 1 Axes>"
      ]
     },
     "metadata": {},
     "output_type": "display_data"
    }
   ],
   "source": [
    "cumulative_frequency = interval_table['frequency'].cumsum()\n",
    "c_f = pd.concat([pd.Series([0]), cumulative_frequency])\n",
    "x = list(interval_table['interval'][i][0] for i in range(len(interval_table)))\n",
    "x.append(interval_table['interval'][len(interval_table)-1][1])\n",
    "\n",
    "plt.plot(x, c_f/interval_table['frequency'].sum())\n",
    "plt.title('Графік емпіричної функції розподілу')\n",
    "plt.show()"
   ]
  },
  {
   "cell_type": "markdown",
   "id": "bb23b435-a778-4a18-a9ce-80474aea0aa8",
   "metadata": {},
   "source": [
    "## - Числові характеристики інтервального розподілу -"
   ]
  },
  {
   "cell_type": "markdown",
   "id": "a593c690-c83c-44ae-9047-8712f88046da",
   "metadata": {},
   "source": [
    "### 1.Середньоквадратичне"
   ]
  },
  {
   "cell_type": "code",
   "execution_count": 32,
   "id": "7ced52aa-cea6-4bb7-8af3-b40b5779a33b",
   "metadata": {},
   "outputs": [
    {
     "data": {
      "text/plain": [
       "3.33716"
      ]
     },
     "execution_count": 32,
     "metadata": {},
     "output_type": "execute_result"
    }
   ],
   "source": [
    "interval_table['x-']= list((interval_table['interval'][i][1]+interval_table['interval'][i][0])/2 for i in range(len(interval_table)))\n",
    "interval_table['x-']=interval_table['x-']*interval_table['frequency']\n",
    "x = interval_table['x-'].sum()/len(randomlist)\n",
    "x"
   ]
  },
  {
   "cell_type": "markdown",
   "id": "3326ad9e-fd3e-4f20-ad52-a80987a2f5a6",
   "metadata": {},
   "source": [
    "### 2.Медіана"
   ]
  },
  {
   "cell_type": "code",
   "execution_count": 33,
   "id": "3e7d6a43-a7eb-4a61-b18a-5680a7f63b6e",
   "metadata": {},
   "outputs": [
    {
     "data": {
      "text/plain": [
       "3.1705"
      ]
     },
     "execution_count": 33,
     "metadata": {},
     "output_type": "execute_result"
    }
   ],
   "source": [
    "interval_table['cumsum'] = interval_table['frequency'].cumsum()\n",
    "\n",
    "Me_index = (interval_table['cumsum'] >= interval_table['cumsum'].iloc[-1] / 2).idxmax()\n",
    "#Me=interval_table['interval'][Me_index][0]+(interval_table['interval'][Me_index][1]-interval_table['interval'][Me_index][0])*(len(randomlist)/2-interval_table['cumsum'][Me_index-1])/interval_table['frequency'][Me_index]\n",
    "if Me_index == 0:\n",
    "    Me = interval_table['interval'][Me_index][0] + (interval_table['interval'][Me_index][1] - interval_table['interval'][Me_index][0]) * (len(randomlist) / 2 - 0) / interval_table['frequency'][Me_index]\n",
    "else:\n",
    "    Me = interval_table['interval'][Me_index][0] + (interval_table['interval'][Me_index][1] - interval_table['interval'][Me_index][0]) * (len(randomlist) / 2 - interval_table['cumsum'][Me_index - 1]) / interval_table['frequency'][Me_index]\n",
    "Me"
   ]
  },
  {
   "cell_type": "markdown",
   "id": "11071774-f4b5-4786-a133-324b7d45fd0a",
   "metadata": {},
   "source": [
    "### 3. Moда"
   ]
  },
  {
   "cell_type": "code",
   "execution_count": 36,
   "id": "b3937a4d-cd20-4818-803c-622a0c5d6f7b",
   "metadata": {},
   "outputs": [
    {
     "ename": "KeyError",
     "evalue": "-1",
     "output_type": "error",
     "traceback": [
      "\u001b[1;31m---------------------------------------------------------------------------\u001b[0m",
      "\u001b[1;31mValueError\u001b[0m                                Traceback (most recent call last)",
      "File \u001b[1;32m~\\AppData\\Local\\Packages\\PythonSoftwareFoundation.Python.3.11_qbz5n2kfra8p0\\LocalCache\\local-packages\\Python311\\site-packages\\pandas\\core\\indexes\\range.py:414\u001b[0m, in \u001b[0;36mRangeIndex.get_loc\u001b[1;34m(self, key)\u001b[0m\n\u001b[0;32m    413\u001b[0m \u001b[38;5;28;01mtry\u001b[39;00m:\n\u001b[1;32m--> 414\u001b[0m     \u001b[38;5;28;01mreturn\u001b[39;00m \u001b[38;5;28mself\u001b[39m\u001b[38;5;241m.\u001b[39m_range\u001b[38;5;241m.\u001b[39mindex(new_key)\n\u001b[0;32m    415\u001b[0m \u001b[38;5;28;01mexcept\u001b[39;00m \u001b[38;5;167;01mValueError\u001b[39;00m \u001b[38;5;28;01mas\u001b[39;00m err:\n",
      "\u001b[1;31mValueError\u001b[0m: -1 is not in range",
      "\nThe above exception was the direct cause of the following exception:\n",
      "\u001b[1;31mKeyError\u001b[0m                                  Traceback (most recent call last)",
      "Cell \u001b[1;32mIn[36], line 3\u001b[0m\n\u001b[0;32m      1\u001b[0m mo_index \u001b[38;5;241m=\u001b[39m interval_table[\u001b[38;5;124m'\u001b[39m\u001b[38;5;124mfrequency\u001b[39m\u001b[38;5;124m'\u001b[39m]\u001b[38;5;241m.\u001b[39midxmax()\n\u001b[1;32m----> 3\u001b[0m Mo\u001b[38;5;241m=\u001b[39minterval_table[\u001b[38;5;124m'\u001b[39m\u001b[38;5;124minterval\u001b[39m\u001b[38;5;124m'\u001b[39m][mo_index][\u001b[38;5;241m0\u001b[39m]\u001b[38;5;241m+\u001b[39m(((interval_table[\u001b[38;5;124m'\u001b[39m\u001b[38;5;124mfrequency\u001b[39m\u001b[38;5;124m'\u001b[39m][mo_index]\u001b[38;5;241m-\u001b[39m\u001b[43minterval_table\u001b[49m\u001b[43m[\u001b[49m\u001b[38;5;124;43m'\u001b[39;49m\u001b[38;5;124;43mfrequency\u001b[39;49m\u001b[38;5;124;43m'\u001b[39;49m\u001b[43m]\u001b[49m\u001b[43m[\u001b[49m\u001b[43mmo_index\u001b[49m\u001b[38;5;241;43m-\u001b[39;49m\u001b[38;5;241;43m1\u001b[39;49m\u001b[43m]\u001b[49m)\u001b[38;5;241m*\u001b[39m(interval_table[\u001b[38;5;124m'\u001b[39m\u001b[38;5;124minterval\u001b[39m\u001b[38;5;124m'\u001b[39m][mo_index][\u001b[38;5;241m1\u001b[39m]\u001b[38;5;241m-\u001b[39minterval_table[\u001b[38;5;124m'\u001b[39m\u001b[38;5;124minterval\u001b[39m\u001b[38;5;124m'\u001b[39m][mo_index][\u001b[38;5;241m0\u001b[39m]))\u001b[38;5;241m/\u001b[39m((interval_table[\u001b[38;5;124m'\u001b[39m\u001b[38;5;124mfrequency\u001b[39m\u001b[38;5;124m'\u001b[39m][mo_index]\u001b[38;5;241m-\u001b[39minterval_table[\u001b[38;5;124m'\u001b[39m\u001b[38;5;124mfrequency\u001b[39m\u001b[38;5;124m'\u001b[39m][mo_index\u001b[38;5;241m-\u001b[39m\u001b[38;5;241m1\u001b[39m])\u001b[38;5;241m+\u001b[39m(interval_table[\u001b[38;5;124m'\u001b[39m\u001b[38;5;124mfrequency\u001b[39m\u001b[38;5;124m'\u001b[39m][mo_index]\u001b[38;5;241m-\u001b[39minterval_table[\u001b[38;5;124m'\u001b[39m\u001b[38;5;124mfrequency\u001b[39m\u001b[38;5;124m'\u001b[39m][mo_index\u001b[38;5;241m+\u001b[39m\u001b[38;5;241m1\u001b[39m])))\n\u001b[0;32m      5\u001b[0m Mo\n",
      "File \u001b[1;32m~\\AppData\\Local\\Packages\\PythonSoftwareFoundation.Python.3.11_qbz5n2kfra8p0\\LocalCache\\local-packages\\Python311\\site-packages\\pandas\\core\\series.py:1040\u001b[0m, in \u001b[0;36mSeries.__getitem__\u001b[1;34m(self, key)\u001b[0m\n\u001b[0;32m   1037\u001b[0m     \u001b[38;5;28;01mreturn\u001b[39;00m \u001b[38;5;28mself\u001b[39m\u001b[38;5;241m.\u001b[39m_values[key]\n\u001b[0;32m   1039\u001b[0m \u001b[38;5;28;01melif\u001b[39;00m key_is_scalar:\n\u001b[1;32m-> 1040\u001b[0m     \u001b[38;5;28;01mreturn\u001b[39;00m \u001b[38;5;28;43mself\u001b[39;49m\u001b[38;5;241;43m.\u001b[39;49m\u001b[43m_get_value\u001b[49m\u001b[43m(\u001b[49m\u001b[43mkey\u001b[49m\u001b[43m)\u001b[49m\n\u001b[0;32m   1042\u001b[0m \u001b[38;5;66;03m# Convert generator to list before going through hashable part\u001b[39;00m\n\u001b[0;32m   1043\u001b[0m \u001b[38;5;66;03m# (We will iterate through the generator there to check for slices)\u001b[39;00m\n\u001b[0;32m   1044\u001b[0m \u001b[38;5;28;01mif\u001b[39;00m is_iterator(key):\n",
      "File \u001b[1;32m~\\AppData\\Local\\Packages\\PythonSoftwareFoundation.Python.3.11_qbz5n2kfra8p0\\LocalCache\\local-packages\\Python311\\site-packages\\pandas\\core\\series.py:1156\u001b[0m, in \u001b[0;36mSeries._get_value\u001b[1;34m(self, label, takeable)\u001b[0m\n\u001b[0;32m   1153\u001b[0m     \u001b[38;5;28;01mreturn\u001b[39;00m \u001b[38;5;28mself\u001b[39m\u001b[38;5;241m.\u001b[39m_values[label]\n\u001b[0;32m   1155\u001b[0m \u001b[38;5;66;03m# Similar to Index.get_value, but we do not fall back to positional\u001b[39;00m\n\u001b[1;32m-> 1156\u001b[0m loc \u001b[38;5;241m=\u001b[39m \u001b[38;5;28;43mself\u001b[39;49m\u001b[38;5;241;43m.\u001b[39;49m\u001b[43mindex\u001b[49m\u001b[38;5;241;43m.\u001b[39;49m\u001b[43mget_loc\u001b[49m\u001b[43m(\u001b[49m\u001b[43mlabel\u001b[49m\u001b[43m)\u001b[49m\n\u001b[0;32m   1158\u001b[0m \u001b[38;5;28;01mif\u001b[39;00m is_integer(loc):\n\u001b[0;32m   1159\u001b[0m     \u001b[38;5;28;01mreturn\u001b[39;00m \u001b[38;5;28mself\u001b[39m\u001b[38;5;241m.\u001b[39m_values[loc]\n",
      "File \u001b[1;32m~\\AppData\\Local\\Packages\\PythonSoftwareFoundation.Python.3.11_qbz5n2kfra8p0\\LocalCache\\local-packages\\Python311\\site-packages\\pandas\\core\\indexes\\range.py:416\u001b[0m, in \u001b[0;36mRangeIndex.get_loc\u001b[1;34m(self, key)\u001b[0m\n\u001b[0;32m    414\u001b[0m         \u001b[38;5;28;01mreturn\u001b[39;00m \u001b[38;5;28mself\u001b[39m\u001b[38;5;241m.\u001b[39m_range\u001b[38;5;241m.\u001b[39mindex(new_key)\n\u001b[0;32m    415\u001b[0m     \u001b[38;5;28;01mexcept\u001b[39;00m \u001b[38;5;167;01mValueError\u001b[39;00m \u001b[38;5;28;01mas\u001b[39;00m err:\n\u001b[1;32m--> 416\u001b[0m         \u001b[38;5;28;01mraise\u001b[39;00m \u001b[38;5;167;01mKeyError\u001b[39;00m(key) \u001b[38;5;28;01mfrom\u001b[39;00m \u001b[38;5;21;01merr\u001b[39;00m\n\u001b[0;32m    417\u001b[0m \u001b[38;5;28;01mif\u001b[39;00m \u001b[38;5;28misinstance\u001b[39m(key, Hashable):\n\u001b[0;32m    418\u001b[0m     \u001b[38;5;28;01mraise\u001b[39;00m \u001b[38;5;167;01mKeyError\u001b[39;00m(key)\n",
      "\u001b[1;31mKeyError\u001b[0m: -1"
     ]
    }
   ],
   "source": [
    "mo_index = interval_table['frequency'].idxmax()\n",
    "\n",
    "Mo=interval_table['interval'][mo_index][0]+(((interval_table['frequency'][mo_index]-interval_table['frequency'][mo_index-1])*(interval_table['interval'][mo_index][1]-interval_table['interval'][mo_index][0]))/((interval_table['frequency'][mo_index]-interval_table['frequency'][mo_index-1])+(interval_table['frequency'][mo_index]-interval_table['frequency'][mo_index+1])))\n",
    "\n",
    "Mo"
   ]
  },
  {
   "cell_type": "markdown",
   "id": "63bd519b-cd79-403d-8e59-20822b649b3c",
   "metadata": {},
   "source": [
    "### 4.Розмах"
   ]
  },
  {
   "cell_type": "code",
   "execution_count": 37,
   "id": "8420014a-60d0-4bda-ade1-b25734d8b930",
   "metadata": {},
   "outputs": [
    {
     "data": {
      "text/plain": [
       "3.8459999999999996"
      ]
     },
     "execution_count": 37,
     "metadata": {},
     "output_type": "execute_result"
    }
   ],
   "source": [
    "ro = interval_table['interval'].iloc[-1][1] - interval_table['interval'].iloc[0][0]\n",
    "ro"
   ]
  },
  {
   "cell_type": "markdown",
   "id": "39d88af3-cce8-4639-8e4e-3694435e844f",
   "metadata": {},
   "source": [
    "### 5. Девіація"
   ]
  },
  {
   "cell_type": "code",
   "execution_count": 38,
   "id": "acdd85bc-2316-476f-92ba-aec8be566fb8",
   "metadata": {},
   "outputs": [
    {
     "data": {
      "text/plain": [
       "72.15892121999998"
      ]
     },
     "execution_count": 38,
     "metadata": {},
     "output_type": "execute_result"
    }
   ],
   "source": [
    "interval_table['xi-x-'] = (interval_table['interval'].apply(lambda x: (x[1] + x[0]) / 2)) - x\n",
    "interval_table['(xi-x-)^2'] = interval_table['frequency'] * interval_table['xi-x-'] ** 2\n",
    "dev = interval_table['(xi-x-)^2'].sum()\n",
    "dev"
   ]
  },
  {
   "cell_type": "markdown",
   "id": "b1a1a526-2a8f-433f-ab0d-a6695297e7c1",
   "metadata": {},
   "source": [
    "### 6. Варіанса"
   ]
  },
  {
   "cell_type": "code",
   "execution_count": 39,
   "id": "4085145d-1c0c-4439-ad03-51bb49f77882",
   "metadata": {},
   "outputs": [
    {
     "data": {
      "text/plain": [
       "1.472631045306122"
      ]
     },
     "execution_count": 39,
     "metadata": {},
     "output_type": "execute_result"
    }
   ],
   "source": [
    "S=dev/(len(randomlist)-1)\n",
    "S"
   ]
  },
  {
   "cell_type": "markdown",
   "id": "3186879e-c949-46ed-b8d5-2eb23a2b95cf",
   "metadata": {},
   "source": [
    "### 7.Стандарт"
   ]
  },
  {
   "cell_type": "code",
   "execution_count": 40,
   "id": "c07555d7-1276-4faf-bd91-1695bd57959d",
   "metadata": {},
   "outputs": [
    {
     "data": {
      "text/plain": [
       "1.213520105027569"
      ]
     },
     "execution_count": 40,
     "metadata": {},
     "output_type": "execute_result"
    }
   ],
   "source": [
    "s=pow(S,0.5)\n",
    "s"
   ]
  },
  {
   "cell_type": "markdown",
   "id": "34714e02-4996-4507-a5ed-8b6417e94cf3",
   "metadata": {},
   "source": [
    "### 8.Варіація"
   ]
  },
  {
   "cell_type": "code",
   "execution_count": 41,
   "id": "42ac07a0-59cf-416a-b36c-a10bdf980729",
   "metadata": {},
   "outputs": [
    {
     "data": {
      "text/plain": [
       "0.363638574424831"
      ]
     },
     "execution_count": 41,
     "metadata": {},
     "output_type": "execute_result"
    }
   ],
   "source": [
    "v=s/x\n",
    "v"
   ]
  },
  {
   "cell_type": "markdown",
   "id": "981967a8-cdf5-4d9d-9b95-45b863977a34",
   "metadata": {},
   "source": [
    "### 9.Вибіркова дисперсія"
   ]
  },
  {
   "cell_type": "code",
   "execution_count": 42,
   "id": "0ea05be2-7924-4d11-b929-a5192af43642",
   "metadata": {},
   "outputs": [
    {
     "data": {
      "text/plain": [
       "1.4431784243999997"
      ]
     },
     "execution_count": 42,
     "metadata": {},
     "output_type": "execute_result"
    }
   ],
   "source": [
    "D=dev/len(randomlist)\n",
    "D"
   ]
  },
  {
   "cell_type": "markdown",
   "id": "f9a31465-4c2b-447c-a086-23b4a7987bfb",
   "metadata": {},
   "source": [
    "### 10.Вибіркове середньо квадратичне відхилення"
   ]
  },
  {
   "cell_type": "code",
   "execution_count": 43,
   "id": "79fd2a4e-45fe-4cdc-95b3-c7d1de03a220",
   "metadata": {},
   "outputs": [
    {
     "data": {
      "text/plain": [
       "1.2013236135196876"
      ]
     },
     "execution_count": 43,
     "metadata": {},
     "output_type": "execute_result"
    }
   ],
   "source": [
    "sigma=pow(D,0.5)\n",
    "sigma"
   ]
  },
  {
   "cell_type": "markdown",
   "id": "af817a95-c04c-41b4-ad9b-ca80220bb4c2",
   "metadata": {},
   "source": [
    "### 11. Асиметрія"
   ]
  },
  {
   "cell_type": "code",
   "execution_count": 44,
   "id": "bdb2e801-2eff-4ce6-a1d8-b7b7f41b8fd3",
   "metadata": {},
   "outputs": [
    {
     "data": {
      "text/plain": [
       "0.18575154260852342"
      ]
     },
     "execution_count": 44,
     "metadata": {},
     "output_type": "execute_result"
    }
   ],
   "source": [
    "interval_table['(xi-x-)^3'] = interval_table['frequency'] * interval_table['xi-x-'] ** 3\n",
    "As=(interval_table['(xi-x-)^3'].sum()/len(randomlist))/(pow(sigma,3))\n",
    "As"
   ]
  },
  {
   "cell_type": "markdown",
   "id": "8b9dce5e-626b-4527-a140-fb227c1dc67d",
   "metadata": {},
   "source": [
    "### 12.Ексцес"
   ]
  },
  {
   "cell_type": "code",
   "execution_count": 46,
   "id": "af453e16-57e1-4f59-8200-4341330f8ce5",
   "metadata": {},
   "outputs": [
    {
     "data": {
      "text/plain": [
       "-1.4697082369545986"
      ]
     },
     "execution_count": 46,
     "metadata": {},
     "output_type": "execute_result"
    }
   ],
   "source": [
    "interval_table['(xi-x-)^4'] = interval_table['frequency'] * interval_table['xi-x-']**4\n",
    "Ex=(interval_table['(xi-x-)^4'].sum()/len(randomlist))/(pow(sigma,4))-3\n",
    "Ex"
   ]
  },
  {
   "cell_type": "code",
   "execution_count": 47,
   "id": "439429cd-ef1f-45b2-bdd4-d06a35f1372a",
   "metadata": {},
   "outputs": [
    {
     "name": "stdout",
     "output_type": "stream",
     "text": [
      "Дицилій\n",
      "[1.922, 2.022, 2.482, 2.748, 3.179, 3.841, 4.226, 4.66, 5.236]\n",
      "3.314\n"
     ]
    }
   ],
   "source": [
    "arr=[4,8,10]\n",
    "ar=[]\n",
    "for i in arr:\n",
    "    if len(randomlist) % i == 0:\n",
    "        if i==4: print(\"Квартилвій\")\n",
    "        if i==8: print(\"Октилій\")\n",
    "        if i==10: print(\"Дицилій\")\n",
    "        step = len(randomlist) // i\n",
    "        for j in range(step, len(randomlist), step):\n",
    "            ar.append(randomlist[j])\n",
    "        print( ar)\n",
    "        print(ar[len(ar)-1]-ar[0])"
   ]
  },
  {
   "cell_type": "code",
   "execution_count": null,
   "id": "43bb4ec8-e7df-4ae0-89f8-7fad202a878f",
   "metadata": {},
   "outputs": [],
   "source": []
  }
 ],
 "metadata": {
  "kernelspec": {
   "display_name": "Python 3 (ipykernel)",
   "language": "python",
   "name": "python3"
  },
  "language_info": {
   "codemirror_mode": {
    "name": "ipython",
    "version": 3
   },
   "file_extension": ".py",
   "mimetype": "text/x-python",
   "name": "python",
   "nbconvert_exporter": "python",
   "pygments_lexer": "ipython3",
   "version": "3.11.8"
  }
 },
 "nbformat": 4,
 "nbformat_minor": 5
}
